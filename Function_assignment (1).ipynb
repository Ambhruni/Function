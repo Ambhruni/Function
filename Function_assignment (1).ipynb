{
  "nbformat": 4,
  "nbformat_minor": 0,
  "metadata": {
    "colab": {
      "provenance": []
    },
    "kernelspec": {
      "name": "python3",
      "display_name": "Python 3"
    },
    "language_info": {
      "name": "python"
    }
  },
  "cells": [
    {
      "cell_type": "markdown",
      "source": [
        "#THEORY QUESTIONS"
      ],
      "metadata": {
        "id": "mJn555hhKJjV"
      }
    },
    {
      "cell_type": "markdown",
      "source": [
        "1. What is the difference between a function and a method in Python?"
      ],
      "metadata": {
        "id": "9hPR9CHYKO6V"
      }
    },
    {
      "cell_type": "markdown",
      "source": [
        "->Function:\n",
        "\n",
        "*Function is a block of code that perform a specific action\n",
        "\n",
        "*It is define using def keyword\n",
        "\n",
        "ex:def add(a, b):\n",
        "    return a + b\n",
        "result = add(3, 5)\n",
        "print(result)\n",
        "\n",
        "->Method\n",
        "\n",
        "*A method is a function that is associated with an object.\n",
        "\n",
        "*It is also defined using def, but inside a class.\n",
        "\n",
        "ex:def greet():\n",
        "    print(\"Hello, how are you?\")\n",
        "greet()\n",
        "\n"
      ],
      "metadata": {
        "id": "M6WIUJf2KWRH"
      }
    },
    {
      "cell_type": "markdown",
      "source": [
        "2. Explain the concept of function arguments and parameters in Python?"
      ],
      "metadata": {
        "id": "iFy55e1QMtlS"
      }
    },
    {
      "cell_type": "markdown",
      "source": [
        "->Parameters\n",
        "\n",
        "*these are the variables that you define inside a function\n",
        "\n",
        "ex:def greet(name):\n",
        "\n",
        "    print(\"Hello\", name)\n",
        "\n",
        "->Argument\n",
        "\n",
        "*These are the actual values you pass to the function when you call it.\n",
        "\n",
        "ex:greet(\"Sonu\")   "
      ],
      "metadata": {
        "id": "dgPlmmJyOO6O"
      }
    },
    {
      "cell_type": "markdown",
      "source": [
        "4. What is the purpose of the `return` statement in a Python function?"
      ],
      "metadata": {
        "id": "fu3Nmv9MQMpu"
      }
    },
    {
      "cell_type": "markdown",
      "source": [
        "->When a function finishes execution, return allows it to give back a result.\n",
        "\n",
        "*Without return, a function gives back None by default.\n",
        "\n",
        "ex:def add(a, b):\n",
        "    return a + b\n",
        "\n",
        "result = add(5, 3)\n",
        "\n",
        "print(result)  \n"
      ],
      "metadata": {
        "id": "sy9yC2TWQZjH"
      }
    },
    {
      "cell_type": "markdown",
      "source": [
        "5. What are iterators in Python and how do they differ from iterables?"
      ],
      "metadata": {
        "id": "rLyKO6WXRAI5"
      }
    },
    {
      "cell_type": "markdown",
      "source": [
        "->Iterator\n",
        "\n",
        "*An iterator is an object that represents a stream of data; it keeps track of its current position and can give the next value on demand.\n",
        "\n",
        "*An iterator implements two methods: __iter__() and __next__()."
      ],
      "metadata": {
        "id": "sDYo8-1WRFMM"
      }
    },
    {
      "cell_type": "markdown",
      "source": [
        "6.Explain the concept of generators in Python and how they are defined?\n",
        "\n"
      ],
      "metadata": {
        "id": "jAfMNhKeX-nq"
      }
    },
    {
      "cell_type": "markdown",
      "source": [
        "->A generator is a special type of iterator that allows you to produce items one at a time  than storing all of them in memory.\n",
        "\n",
        "*They are defined using following\n",
        "\n",
        "a]using generator function\n",
        "\n",
        "b]using ganarator expression"
      ],
      "metadata": {
        "id": "gE71jIAhYIR0"
      }
    },
    {
      "cell_type": "markdown",
      "source": [
        "7. What are the advantages of using generators over regular functions?"
      ],
      "metadata": {
        "id": "yZecNY-_gmyf"
      }
    },
    {
      "cell_type": "markdown",
      "source": [
        "->Regular Function\n",
        "\n",
        "*Makes all results at once and gives them back.\n",
        "\n",
        "*Uses more memory if the result is big.\n",
        "\n",
        "->Generator\n",
        "\n",
        "*Makes one result at a time, only when you ask for it.\n",
        "\n",
        "*Saves memory because it doesn’t store everything."
      ],
      "metadata": {
        "id": "98agmkClg2up"
      }
    },
    {
      "cell_type": "markdown",
      "source": [
        "8.What is a lambda function in Python and when is it typically used?"
      ],
      "metadata": {
        "id": "zRWds8jUjHjs"
      }
    },
    {
      "cell_type": "markdown",
      "source": [
        "->A lambda function in Python is a small function  that you write in one line using the keyword lambda.\n",
        "\n",
        "ex:add = lambda a, b: a + b\n",
        "\n",
        "\n",
        "print(add(2, 3))\n",
        "\n",
        "->It is typically used when:\n",
        "\n",
        "a]when we need a short function\n",
        "\n",
        "b]With functions like map(), filter(), sorted()\n"
      ],
      "metadata": {
        "id": "HsJBcefwq4SX"
      }
    },
    {
      "cell_type": "markdown",
      "source": [
        "9. Explain the purpose and usage of the `map()` function in Python?"
      ],
      "metadata": {
        "id": "9KpQgg-Kr0jJ"
      }
    },
    {
      "cell_type": "markdown",
      "source": [
        "->The map() function is used to apply a function to every item in a sequence like a list, tuple, etc and return the results.\n",
        "\n",
        "Ex:names = [\"alice\", \"bob\", \"charlie\"]\n",
        "\n",
        "\n",
        "result = map(str.upper, names)\n",
        "\n",
        "\n",
        "print(list(result))\n",
        "\n"
      ],
      "metadata": {
        "id": "lrv9ryicsHmw"
      }
    },
    {
      "cell_type": "markdown",
      "source": [
        "10.What is the difference between `map()`, `reduce()`, and `filter()` functions in Python?\n",
        "\n",
        "\n",
        "\n"
      ],
      "metadata": {
        "id": "NhvRudhEsgDP"
      }
    },
    {
      "cell_type": "markdown",
      "source": [
        "->Map()\n",
        "\n",
        "*Applies a function to every item in an iterable.\n",
        "\n",
        "*Returns a new iterable.\n",
        "\n",
        "*ex:numbers = [1, 2, 3, 4]\n",
        "\n",
        "\n",
        "result = map(lambda x: x * x, numbers)\n",
        "\n",
        "\n",
        "print(list(result))\n",
        "\n",
        "->Filter()\n",
        "\n",
        "*Applies a function that returns True/False.\n",
        "\n",
        "*Keeps only the elements where the function is True\n",
        "\n",
        "*Applies a function cumulatively to the items.\n",
        "\n",
        "Comes from functools module (from functools import reduce).\n",
        "\n",
        "Ex:numbers = [1, 2, 3, 4, 5, 6]\n",
        "\n",
        "\n",
        "result = filter(lambda x: x % 2 == 0, numbers)\n",
        "\n",
        "\n",
        "print(list(result))   \n",
        "\n",
        "->Reduce()\n",
        "\n",
        "Applies a function cumulatively to the items.\n",
        "\n",
        "\n",
        "numbers = [1, 2, 3, 4]\n",
        "\n",
        "\n",
        "result = reduce(lambda x, y: x + y, numbers)\n",
        "\n",
        "\n",
        "print(result)   \n",
        "\n",
        "\n"
      ],
      "metadata": {
        "id": "YSVJ9Xe7sp-Q"
      }
    },
    {
      "cell_type": "markdown",
      "source": [
        "#PRACTICLE QUESTIONS"
      ],
      "metadata": {
        "id": "hiUa9tY0xwp1"
      }
    },
    {
      "cell_type": "markdown",
      "source": [
        "1. Write a Python function that takes a list of numbers as input and returns the sum of all even numbers in\n",
        "the list."
      ],
      "metadata": {
        "id": "Ljsc8xS0x5oF"
      }
    },
    {
      "cell_type": "code",
      "source": [
        "def sum_even_numbers(numbers):\n",
        "  even_sum = 0\n",
        "  for number in numbers:\n",
        "    if number % 2 == 0:\n",
        "      even_sum += number\n",
        "  return even_sum\n",
        "my_list = [1, 2, 3, 4, 5, 6, 7, 8, 9, 10]\n",
        "result = sum_even_numbers(my_list)\n",
        "print(f\"The sum of even numbers in the list is: {result}\")"
      ],
      "metadata": {
        "colab": {
          "base_uri": "https://localhost:8080/"
        },
        "id": "yKUFrWeByDdo",
        "outputId": "91c077be-c71b-4c6c-f3ef-b2b0e0aaaeea"
      },
      "execution_count": null,
      "outputs": [
        {
          "output_type": "stream",
          "name": "stdout",
          "text": [
            "The sum of even numbers in the list is: 30\n"
          ]
        }
      ]
    },
    {
      "cell_type": "markdown",
      "source": [
        "2.Create a Python function that accepts a string and returns the reverse of that string?"
      ],
      "metadata": {
        "id": "zjNFxrPpyiDa"
      }
    },
    {
      "cell_type": "code",
      "source": [
        "def reverse_string(input_string):\n",
        "  return input_string[::-1]\n",
        "my_string = \"Hello, World!\"\n",
        "reversed_string = reverse_string(my_string)\n",
        "print(f\"The original string is: {my_string}\")\n",
        "print(f\"The reversed string is: {reversed_string}\")"
      ],
      "metadata": {
        "colab": {
          "base_uri": "https://localhost:8080/"
        },
        "id": "mHZ558E4ypx6",
        "outputId": "d44f8222-640d-4cd6-f446-dd4ef6fdd455"
      },
      "execution_count": null,
      "outputs": [
        {
          "output_type": "stream",
          "name": "stdout",
          "text": [
            "The original string is: Hello, World!\n",
            "The reversed string is: !dlroW ,olleH\n"
          ]
        }
      ]
    },
    {
      "cell_type": "markdown",
      "source": [
        "3. Implement a Python function that takes a list of integers and returns a new list containing the squares of\n",
        "each number?"
      ],
      "metadata": {
        "id": "xNC6oz6Qy3zB"
      }
    },
    {
      "cell_type": "code",
      "source": [
        "def square_numbers(numbers):\n",
        "  squared_list = []\n",
        "  for number in numbers:\n",
        "    squared_list.append(number**2)\n",
        "  squared_list = [number**2 for number in numbers]\n",
        "  return squared_list\n",
        "my_list = [1, 2, 3, 4, 5]\n",
        "squared_numbers = square_numbers(my_list)\n",
        "print(f\"The original list is: {my_list}\")\n",
        "print(f\"The list with squared numbers is: {squared_numbers}\")"
      ],
      "metadata": {
        "colab": {
          "base_uri": "https://localhost:8080/"
        },
        "id": "AxW4spHFy-EV",
        "outputId": "b6403179-36db-4491-ec1d-5c2ae781106d"
      },
      "execution_count": null,
      "outputs": [
        {
          "output_type": "stream",
          "name": "stdout",
          "text": [
            "The original list is: [1, 2, 3, 4, 5]\n",
            "The list with squared numbers is: [1, 4, 9, 16, 25]\n"
          ]
        }
      ]
    },
    {
      "cell_type": "markdown",
      "source": [
        "4. Write a Python function that checks if a given number is prime or not from 1 to 200?"
      ],
      "metadata": {
        "id": "Yw87jbIZ0e1b"
      }
    },
    {
      "cell_type": "code",
      "source": [
        "def is_prime(number):\n",
        "  if number <= 1:\n",
        "    return False\n",
        "  if number <= 3:\n",
        "    return True\n",
        "  if number % 2 == 0 or number % 3 == 0:\n",
        "    return False\n",
        "  i = 5\n",
        "  while i * i <= number:\n",
        "    if number % i == 0 or number % (i + 2) == 0:\n",
        "      return False\n",
        "    i += 6\n",
        "  return True\n",
        "print(\"Prime numbers from 1 to 200:\")\n",
        "for num in range(1, 201):\n",
        "  if is_prime(num):\n",
        "    print(num)"
      ],
      "metadata": {
        "colab": {
          "base_uri": "https://localhost:8080/"
        },
        "id": "S5iigrIh0ldY",
        "outputId": "04c5e810-0a48-4fcd-9594-ca3c82e7166a"
      },
      "execution_count": null,
      "outputs": [
        {
          "output_type": "stream",
          "name": "stdout",
          "text": [
            "Prime numbers from 1 to 200:\n",
            "2\n",
            "3\n",
            "5\n",
            "7\n",
            "11\n",
            "13\n",
            "17\n",
            "19\n",
            "23\n",
            "29\n",
            "31\n",
            "37\n",
            "41\n",
            "43\n",
            "47\n",
            "53\n",
            "59\n",
            "61\n",
            "67\n",
            "71\n",
            "73\n",
            "79\n",
            "83\n",
            "89\n",
            "97\n",
            "101\n",
            "103\n",
            "107\n",
            "109\n",
            "113\n",
            "127\n",
            "131\n",
            "137\n",
            "139\n",
            "149\n",
            "151\n",
            "157\n",
            "163\n",
            "167\n",
            "173\n",
            "179\n",
            "181\n",
            "191\n",
            "193\n",
            "197\n",
            "199\n"
          ]
        }
      ]
    },
    {
      "cell_type": "markdown",
      "source": [
        "5. Create an iterator class in Python that generates the Fibonacci sequence up to a specified number of\n",
        "terms?"
      ],
      "metadata": {
        "id": "V2Gfl4361Mdt"
      }
    },
    {
      "cell_type": "code",
      "source": [
        "class FibonacciIterator:\n",
        "\n",
        "  def __init__(self, num_terms):\n",
        "    self.num_terms = num_terms\n",
        "    self.count = 0\n",
        "    self.a = 0\n",
        "    self.b = 1\n",
        "\n",
        "  def __iter__(self):\n",
        "    return self\n",
        "\n",
        "  def __next__(self):\n",
        "    if self.count < self.num_terms:\n",
        "      if self.count == 0:\n",
        "        self.count += 1\n",
        "        return self.a\n",
        "      elif self.count == 1:\n",
        "        self.count += 1\n",
        "        return self.b\n",
        "      else:\n",
        "        next_fib = self.a + self.b\n",
        "        self.a = self.b\n",
        "        self.b = next_fib\n",
        "        self.count += 1\n",
        "        return next_fib\n",
        "    else:\n",
        "      raise StopIteration\n",
        "\n",
        "fib_iterator = FibonacciIterator(10)\n",
        "print(\"Fibonacci sequence up to 10 terms:\")\n",
        "for num in fib_iterator:\n",
        "  print(num)"
      ],
      "metadata": {
        "colab": {
          "base_uri": "https://localhost:8080/"
        },
        "id": "yf3C5YMW1Q_R",
        "outputId": "b8e1565c-b2d8-405d-f1c9-d40b2923d58c"
      },
      "execution_count": null,
      "outputs": [
        {
          "output_type": "stream",
          "name": "stdout",
          "text": [
            "Fibonacci sequence up to 10 terms:\n",
            "0\n",
            "1\n",
            "1\n",
            "2\n",
            "3\n",
            "5\n",
            "8\n",
            "13\n",
            "21\n",
            "34\n"
          ]
        }
      ]
    },
    {
      "cell_type": "markdown",
      "source": [
        "6. Write a generator function in Python that yields the powers of 2 up to a given exponent?"
      ],
      "metadata": {
        "id": "NcJZWoFc18SE"
      }
    },
    {
      "cell_type": "code",
      "source": [
        "def powers_of_two(exponent):\n",
        "\n",
        "  for i in range(exponent + 1):\n",
        "    yield 2**i\n",
        "for power in powers_of_two(5):\n",
        "  print(power)"
      ],
      "metadata": {
        "colab": {
          "base_uri": "https://localhost:8080/"
        },
        "id": "6npNHK5y2AEa",
        "outputId": "26b22b8a-40be-4cc4-ae85-3df5f672966f"
      },
      "execution_count": null,
      "outputs": [
        {
          "output_type": "stream",
          "name": "stdout",
          "text": [
            "1\n",
            "2\n",
            "4\n",
            "8\n",
            "16\n",
            "32\n"
          ]
        }
      ]
    },
    {
      "cell_type": "markdown",
      "source": [
        "8. Use a lambda function in Python to sort a list of tuples based on the second element of each tuple?"
      ],
      "metadata": {
        "id": "GLSXNoh26ExE"
      }
    },
    {
      "cell_type": "code",
      "source": [
        "my_list = [(1, 'banana'), (3, 'apple'), (2, 'cherry'), (4, 'date')]\n",
        "sorted_list = sorted(my_list, key=lambda item: item[1])\n",
        "print(sorted_list)"
      ],
      "metadata": {
        "colab": {
          "base_uri": "https://localhost:8080/"
        },
        "id": "2eZ9bRTu6KgZ",
        "outputId": "e2a8dc6d-860a-4d10-b0cf-645d3ef4d5d2"
      },
      "execution_count": null,
      "outputs": [
        {
          "output_type": "stream",
          "name": "stdout",
          "text": [
            "[(3, 'apple'), (1, 'banana'), (2, 'cherry'), (4, 'date')]\n"
          ]
        }
      ]
    },
    {
      "cell_type": "markdown",
      "source": [
        "9. Write a Python program that uses `map()` to convert a list of temperatures from Celsius to Fahrenheit?"
      ],
      "metadata": {
        "id": "NZtui_Nq6YES"
      }
    },
    {
      "cell_type": "code",
      "source": [
        "celsius_temperatures = [0, 10, 20, 30, 40, 50]\n",
        "def celsius_to_fahrenheit(celsius):\n",
        "  return (celsius * 9/5) + 32\n",
        "fahrenheit_temperatures = list(map(celsius_to_fahrenheit, celsius_temperatures))\n",
        "print(f\"Celsius temperatures: {celsius_temperatures}\")\n",
        "print(f\"Fahrenheit temperatures: {fahrenheit_temperatures}\")"
      ],
      "metadata": {
        "colab": {
          "base_uri": "https://localhost:8080/"
        },
        "id": "J3NcNLFW7ajU",
        "outputId": "0be9e516-9387-461f-b314-4ffdfad71d32"
      },
      "execution_count": null,
      "outputs": [
        {
          "output_type": "stream",
          "name": "stdout",
          "text": [
            "Celsius temperatures: [0, 10, 20, 30, 40, 50]\n",
            "Fahrenheit temperatures: [32.0, 50.0, 68.0, 86.0, 104.0, 122.0]\n"
          ]
        }
      ]
    },
    {
      "cell_type": "markdown",
      "source": [
        "10. Create a Python program that uses `filter()` to remove all the vowels from a given string?\n",
        "\n",
        "\n"
      ],
      "metadata": {
        "id": "Go2GiuQi7soQ"
      }
    },
    {
      "cell_type": "code",
      "source": [
        "smy_string = \"Hello, World!\"\n",
        "def is_not_vowel(char):\n",
        "  vowels = \"aeiouAEIOU\"\n",
        "  return char not in vowels\n",
        "filtered_chars = filter(is_not_vowel, my_string)\n",
        "result_string = \"\".join(filtered_chars)\n",
        "print(f\"Original string: {my_string}\")\n",
        "print(f\"String after removing vowels: {result_string}\")"
      ],
      "metadata": {
        "colab": {
          "base_uri": "https://localhost:8080/"
        },
        "id": "03_R8RAz7yZ6",
        "outputId": "e6bf9df2-c8bd-47f1-9e57-cc608aa5816c"
      },
      "execution_count": null,
      "outputs": [
        {
          "output_type": "stream",
          "name": "stdout",
          "text": [
            "Original string: Hello, World!\n",
            "String after removing vowels: Hll, Wrld!\n"
          ]
        }
      ]
    }
  ]
}